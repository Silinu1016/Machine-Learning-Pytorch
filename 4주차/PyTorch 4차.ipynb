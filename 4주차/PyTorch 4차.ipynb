{
 "cells": [
  {
   "cell_type": "markdown",
   "id": "bbedc4d5",
   "metadata": {},
   "source": [
    "## 제목 : Pytorch Classification NN\n",
    "## 작성자 : 김수\n",
    "## 작성 일자 : 2022.02.03"
   ]
  },
  {
   "cell_type": "code",
   "execution_count": 1,
   "id": "959eefd4",
   "metadata": {},
   "outputs": [],
   "source": [
    "import torch\n",
    "import torch.nn as nn\n",
    "import torch.nn.functional as F \n",
    "import torch.optim as optim\n",
    "import torch.nn.init as init\n",
    "import numpy as np\n",
    "import pandas as pd\n",
    "import matplotlib.pyplot as plt \n",
    "torch.manual_seed(777)\n",
    "num_epoch = 1000\n",
    "Learning_Rate = 0.01"
   ]
  },
  {
   "cell_type": "code",
   "execution_count": 2,
   "id": "07f88663",
   "metadata": {},
   "outputs": [],
   "source": [
    "training_data = np.loadtxt(\"G:/공유 드라이브/연구실 폴더/분류대회/Training_data.csv\",delimiter=\",\")\n",
    "test_data = np.loadtxt(\"G:/공유 드라이브/연구실 폴더/분류대회/Test_Input.csv\",delimiter=\",\")"
   ]
  },
  {
   "cell_type": "code",
   "execution_count": 3,
   "id": "597b7667",
   "metadata": {},
   "outputs": [
    {
     "name": "stdout",
     "output_type": "stream",
     "text": [
      "torch.Size([98000, 12])\n",
      "torch.Size([98000, 4])\n",
      "torch.Size([42000, 12])\n",
      "torch.Size([42000, 4])\n",
      "torch.Size([60000, 12])\n"
     ]
    }
   ],
   "source": [
    "cut_line = int(training_data.shape[0]*0.7)\n",
    "x = training_data[:cut_line,:12]\n",
    "y = training_data[:cut_line,-4:]\n",
    "val_x = training_data[cut_line:,:12]\n",
    "val_y = training_data[cut_line:,-4:]\n",
    "\n",
    "test_x = test_data[:,:12]\n",
    "\n",
    "X = torch.tensor(x,dtype=torch.float32)\n",
    "Y = torch.reshape(torch.tensor(y,dtype=torch.float32),[y.shape[0],y.shape[1]])\n",
    "Y_not_one_hot_encoding = torch.argmax(Y,dim=1)\n",
    "\n",
    "Val_X = torch.tensor(val_x,dtype=torch.float32)\n",
    "Val_Y = torch.reshape(torch.tensor(val_y,dtype=torch.float32),[val_y.shape[0],val_y.shape[1]])\n",
    "Val_Y_not_one_hot_encoding = torch.argmax(Val_Y,dim=1)\n",
    "\n",
    "TEST = torch.tensor(test_x,dtype=torch.float32)\n",
    "\n",
    "print(X.shape)\n",
    "print(Y.shape)\n",
    "print(Val_X.shape)\n",
    "print(Val_Y.shape)\n",
    "print(TEST.shape)"
   ]
  },
  {
   "cell_type": "code",
   "execution_count": 4,
   "id": "7e30c851",
   "metadata": {},
   "outputs": [
    {
     "name": "stdout",
     "output_type": "stream",
     "text": [
      "0 Loss :  tensor(1.3885) Accuracy :  tensor(0.2506) Val Loss :  tensor(1.3847) Val Accuracy :  tensor(0.3201)\n"
     ]
    },
    {
     "name": "stderr",
     "output_type": "stream",
     "text": [
      "C:\\Users\\USER\\Anaconda3\\envs\\pytorch\\lib\\site-packages\\torch\\nn\\modules\\container.py:141: UserWarning: Implicit dimension choice for softmax has been deprecated. Change the call to include dim=X as an argument.\n",
      "  input = module(input)\n"
     ]
    },
    {
     "name": "stdout",
     "output_type": "stream",
     "text": [
      "10 Loss :  tensor(1.3221) Accuracy :  tensor(0.4953) Val Loss :  tensor(1.3066) Val Accuracy :  tensor(0.5005)\n",
      "20 Loss :  tensor(1.2069) Accuracy :  tensor(0.4940) Val Loss :  tensor(1.1965) Val Accuracy :  tensor(0.5011)\n",
      "30 Loss :  tensor(1.1589) Accuracy :  tensor(0.5747) Val Loss :  tensor(1.1509) Val Accuracy :  tensor(0.5950)\n",
      "40 Loss :  tensor(1.1136) Accuracy :  tensor(0.6503) Val Loss :  tensor(1.1069) Val Accuracy :  tensor(0.6566)\n",
      "50 Loss :  tensor(1.0820) Accuracy :  tensor(0.6655) Val Loss :  tensor(1.0760) Val Accuracy :  tensor(0.6718)\n",
      "60 Loss :  tensor(1.0548) Accuracy :  tensor(0.6958) Val Loss :  tensor(1.0500) Val Accuracy :  tensor(0.7024)\n",
      "70 Loss :  tensor(1.0304) Accuracy :  tensor(0.7240) Val Loss :  tensor(1.0262) Val Accuracy :  tensor(0.7291)\n",
      "80 Loss :  tensor(1.0110) Accuracy :  tensor(0.7496) Val Loss :  tensor(1.0077) Val Accuracy :  tensor(0.7514)\n",
      "90 Loss :  tensor(0.9956) Accuracy :  tensor(0.7640) Val Loss :  tensor(0.9934) Val Accuracy :  tensor(0.7663)\n",
      "100 Loss :  tensor(0.9831) Accuracy :  tensor(0.7769) Val Loss :  tensor(0.9816) Val Accuracy :  tensor(0.7786)\n",
      "110 Loss :  tensor(0.9724) Accuracy :  tensor(0.7863) Val Loss :  tensor(0.9714) Val Accuracy :  tensor(0.7878)\n",
      "120 Loss :  tensor(0.9628) Accuracy :  tensor(0.7940) Val Loss :  tensor(0.9623) Val Accuracy :  tensor(0.7949)\n",
      "130 Loss :  tensor(0.9546) Accuracy :  tensor(0.7999) Val Loss :  tensor(0.9546) Val Accuracy :  tensor(0.7999)\n",
      "140 Loss :  tensor(0.9475) Accuracy :  tensor(0.8055) Val Loss :  tensor(0.9479) Val Accuracy :  tensor(0.8051)\n",
      "150 Loss :  tensor(0.9413) Accuracy :  tensor(0.8109) Val Loss :  tensor(0.9420) Val Accuracy :  tensor(0.8106)\n",
      "160 Loss :  tensor(0.9357) Accuracy :  tensor(0.8159) Val Loss :  tensor(0.9368) Val Accuracy :  tensor(0.8145)\n",
      "170 Loss :  tensor(0.9307) Accuracy :  tensor(0.8197) Val Loss :  tensor(0.9321) Val Accuracy :  tensor(0.8177)\n",
      "180 Loss :  tensor(0.9261) Accuracy :  tensor(0.8231) Val Loss :  tensor(0.9278) Val Accuracy :  tensor(0.8208)\n",
      "190 Loss :  tensor(0.9220) Accuracy :  tensor(0.8264) Val Loss :  tensor(0.9237) Val Accuracy :  tensor(0.8244)\n",
      "200 Loss :  tensor(0.9183) Accuracy :  tensor(0.8299) Val Loss :  tensor(0.9201) Val Accuracy :  tensor(0.8274)\n",
      "210 Loss :  tensor(0.9151) Accuracy :  tensor(0.8322) Val Loss :  tensor(0.9171) Val Accuracy :  tensor(0.8297)\n",
      "220 Loss :  tensor(0.9123) Accuracy :  tensor(0.8344) Val Loss :  tensor(0.9145) Val Accuracy :  tensor(0.8317)\n",
      "230 Loss :  tensor(0.9099) Accuracy :  tensor(0.8367) Val Loss :  tensor(0.9123) Val Accuracy :  tensor(0.8335)\n",
      "240 Loss :  tensor(0.9079) Accuracy :  tensor(0.8381) Val Loss :  tensor(0.9104) Val Accuracy :  tensor(0.8346)\n",
      "250 Loss :  tensor(0.9060) Accuracy :  tensor(0.8394) Val Loss :  tensor(0.9087) Val Accuracy :  tensor(0.8360)\n",
      "260 Loss :  tensor(0.9044) Accuracy :  tensor(0.8408) Val Loss :  tensor(0.9072) Val Accuracy :  tensor(0.8375)\n",
      "270 Loss :  tensor(0.9028) Accuracy :  tensor(0.8422) Val Loss :  tensor(0.9059) Val Accuracy :  tensor(0.8379)\n",
      "280 Loss :  tensor(0.9014) Accuracy :  tensor(0.8431) Val Loss :  tensor(0.9047) Val Accuracy :  tensor(0.8388)\n",
      "290 Loss :  tensor(0.9001) Accuracy :  tensor(0.8439) Val Loss :  tensor(0.9035) Val Accuracy :  tensor(0.8394)\n",
      "300 Loss :  tensor(0.8990) Accuracy :  tensor(0.8448) Val Loss :  tensor(0.9025) Val Accuracy :  tensor(0.8401)\n",
      "310 Loss :  tensor(0.8979) Accuracy :  tensor(0.8456) Val Loss :  tensor(0.9015) Val Accuracy :  tensor(0.8407)\n",
      "320 Loss :  tensor(0.8969) Accuracy :  tensor(0.8469) Val Loss :  tensor(0.9006) Val Accuracy :  tensor(0.8416)\n",
      "330 Loss :  tensor(0.8960) Accuracy :  tensor(0.8478) Val Loss :  tensor(0.8998) Val Accuracy :  tensor(0.8426)\n",
      "340 Loss :  tensor(0.8951) Accuracy :  tensor(0.8489) Val Loss :  tensor(0.8991) Val Accuracy :  tensor(0.8429)\n",
      "350 Loss :  tensor(0.8943) Accuracy :  tensor(0.8495) Val Loss :  tensor(0.8984) Val Accuracy :  tensor(0.8438)\n",
      "360 Loss :  tensor(0.8935) Accuracy :  tensor(0.8503) Val Loss :  tensor(0.8977) Val Accuracy :  tensor(0.8439)\n",
      "370 Loss :  tensor(0.8928) Accuracy :  tensor(0.8509) Val Loss :  tensor(0.8971) Val Accuracy :  tensor(0.8446)\n",
      "380 Loss :  tensor(0.8921) Accuracy :  tensor(0.8515) Val Loss :  tensor(0.8965) Val Accuracy :  tensor(0.8453)\n",
      "390 Loss :  tensor(0.8915) Accuracy :  tensor(0.8524) Val Loss :  tensor(0.8959) Val Accuracy :  tensor(0.8460)\n",
      "400 Loss :  tensor(0.8909) Accuracy :  tensor(0.8530) Val Loss :  tensor(0.8954) Val Accuracy :  tensor(0.8465)\n",
      "410 Loss :  tensor(0.8903) Accuracy :  tensor(0.8537) Val Loss :  tensor(0.8949) Val Accuracy :  tensor(0.8473)\n",
      "420 Loss :  tensor(0.8897) Accuracy :  tensor(0.8542) Val Loss :  tensor(0.8944) Val Accuracy :  tensor(0.8479)\n",
      "430 Loss :  tensor(0.8892) Accuracy :  tensor(0.8548) Val Loss :  tensor(0.8940) Val Accuracy :  tensor(0.8482)\n",
      "440 Loss :  tensor(0.8886) Accuracy :  tensor(0.8553) Val Loss :  tensor(0.8936) Val Accuracy :  tensor(0.8489)\n",
      "450 Loss :  tensor(0.8881) Accuracy :  tensor(0.8557) Val Loss :  tensor(0.8931) Val Accuracy :  tensor(0.8493)\n",
      "460 Loss :  tensor(0.8876) Accuracy :  tensor(0.8561) Val Loss :  tensor(0.8927) Val Accuracy :  tensor(0.8496)\n",
      "470 Loss :  tensor(0.8872) Accuracy :  tensor(0.8563) Val Loss :  tensor(0.8927) Val Accuracy :  tensor(0.8485)\n",
      "480 Loss :  tensor(0.8866) Accuracy :  tensor(0.8568) Val Loss :  tensor(0.8920) Val Accuracy :  tensor(0.8498)\n",
      "490 Loss :  tensor(0.8861) Accuracy :  tensor(0.8571) Val Loss :  tensor(0.8917) Val Accuracy :  tensor(0.8499)\n",
      "500 Loss :  tensor(0.8857) Accuracy :  tensor(0.8577) Val Loss :  tensor(0.8915) Val Accuracy :  tensor(0.8500)\n",
      "510 Loss :  tensor(0.8853) Accuracy :  tensor(0.8581) Val Loss :  tensor(0.8912) Val Accuracy :  tensor(0.8505)\n",
      "520 Loss :  tensor(0.8849) Accuracy :  tensor(0.8584) Val Loss :  tensor(0.8909) Val Accuracy :  tensor(0.8510)\n",
      "530 Loss :  tensor(0.8846) Accuracy :  tensor(0.8589) Val Loss :  tensor(0.8906) Val Accuracy :  tensor(0.8514)\n",
      "540 Loss :  tensor(0.8842) Accuracy :  tensor(0.8593) Val Loss :  tensor(0.8903) Val Accuracy :  tensor(0.8515)\n",
      "550 Loss :  tensor(0.8839) Accuracy :  tensor(0.8596) Val Loss :  tensor(0.8901) Val Accuracy :  tensor(0.8514)\n",
      "560 Loss :  tensor(0.8836) Accuracy :  tensor(0.8599) Val Loss :  tensor(0.8898) Val Accuracy :  tensor(0.8515)\n",
      "570 Loss :  tensor(0.8833) Accuracy :  tensor(0.8604) Val Loss :  tensor(0.8896) Val Accuracy :  tensor(0.8518)\n",
      "580 Loss :  tensor(0.8830) Accuracy :  tensor(0.8606) Val Loss :  tensor(0.8894) Val Accuracy :  tensor(0.8518)\n",
      "590 Loss :  tensor(0.8827) Accuracy :  tensor(0.8609) Val Loss :  tensor(0.8892) Val Accuracy :  tensor(0.8517)\n",
      "600 Loss :  tensor(0.8825) Accuracy :  tensor(0.8612) Val Loss :  tensor(0.8889) Val Accuracy :  tensor(0.8519)\n",
      "610 Loss :  tensor(0.8823) Accuracy :  tensor(0.8614) Val Loss :  tensor(0.8889) Val Accuracy :  tensor(0.8525)\n",
      "620 Loss :  tensor(0.8820) Accuracy :  tensor(0.8614) Val Loss :  tensor(0.8886) Val Accuracy :  tensor(0.8520)\n",
      "630 Loss :  tensor(0.8817) Accuracy :  tensor(0.8618) Val Loss :  tensor(0.8884) Val Accuracy :  tensor(0.8521)\n",
      "640 Loss :  tensor(0.8815) Accuracy :  tensor(0.8620) Val Loss :  tensor(0.8882) Val Accuracy :  tensor(0.8520)\n",
      "650 Loss :  tensor(0.8813) Accuracy :  tensor(0.8623) Val Loss :  tensor(0.8880) Val Accuracy :  tensor(0.8525)\n",
      "660 Loss :  tensor(0.8811) Accuracy :  tensor(0.8626) Val Loss :  tensor(0.8879) Val Accuracy :  tensor(0.8529)\n",
      "670 Loss :  tensor(0.8809) Accuracy :  tensor(0.8629) Val Loss :  tensor(0.8877) Val Accuracy :  tensor(0.8532)\n",
      "680 Loss :  tensor(0.8807) Accuracy :  tensor(0.8631) Val Loss :  tensor(0.8876) Val Accuracy :  tensor(0.8532)\n",
      "690 Loss :  tensor(0.8805) Accuracy :  tensor(0.8633) Val Loss :  tensor(0.8875) Val Accuracy :  tensor(0.8535)\n",
      "700 Loss :  tensor(0.8804) Accuracy :  tensor(0.8636) Val Loss :  tensor(0.8874) Val Accuracy :  tensor(0.8536)\n",
      "710 Loss :  tensor(0.8802) Accuracy :  tensor(0.8635) Val Loss :  tensor(0.8872) Val Accuracy :  tensor(0.8538)\n",
      "720 Loss :  tensor(0.8800) Accuracy :  tensor(0.8637) Val Loss :  tensor(0.8871) Val Accuracy :  tensor(0.8541)\n",
      "730 Loss :  tensor(0.8799) Accuracy :  tensor(0.8640) Val Loss :  tensor(0.8870) Val Accuracy :  tensor(0.8540)\n",
      "740 Loss :  tensor(0.8797) Accuracy :  tensor(0.8641) Val Loss :  tensor(0.8869) Val Accuracy :  tensor(0.8542)\n"
     ]
    },
    {
     "name": "stdout",
     "output_type": "stream",
     "text": [
      "750 Loss :  tensor(0.8797) Accuracy :  tensor(0.8639) Val Loss :  tensor(0.8868) Val Accuracy :  tensor(0.8545)\n",
      "760 Loss :  tensor(0.8795) Accuracy :  tensor(0.8644) Val Loss :  tensor(0.8867) Val Accuracy :  tensor(0.8547)\n",
      "770 Loss :  tensor(0.8793) Accuracy :  tensor(0.8647) Val Loss :  tensor(0.8866) Val Accuracy :  tensor(0.8545)\n",
      "780 Loss :  tensor(0.8791) Accuracy :  tensor(0.8648) Val Loss :  tensor(0.8865) Val Accuracy :  tensor(0.8548)\n",
      "790 Loss :  tensor(0.8790) Accuracy :  tensor(0.8650) Val Loss :  tensor(0.8864) Val Accuracy :  tensor(0.8548)\n",
      "800 Loss :  tensor(0.8789) Accuracy :  tensor(0.8650) Val Loss :  tensor(0.8863) Val Accuracy :  tensor(0.8550)\n",
      "810 Loss :  tensor(0.8787) Accuracy :  tensor(0.8652) Val Loss :  tensor(0.8862) Val Accuracy :  tensor(0.8550)\n",
      "820 Loss :  tensor(0.8786) Accuracy :  tensor(0.8653) Val Loss :  tensor(0.8862) Val Accuracy :  tensor(0.8550)\n",
      "830 Loss :  tensor(0.8784) Accuracy :  tensor(0.8654) Val Loss :  tensor(0.8861) Val Accuracy :  tensor(0.8552)\n",
      "840 Loss :  tensor(0.8783) Accuracy :  tensor(0.8655) Val Loss :  tensor(0.8860) Val Accuracy :  tensor(0.8553)\n",
      "850 Loss :  tensor(0.8782) Accuracy :  tensor(0.8657) Val Loss :  tensor(0.8860) Val Accuracy :  tensor(0.8552)\n",
      "860 Loss :  tensor(0.8780) Accuracy :  tensor(0.8659) Val Loss :  tensor(0.8859) Val Accuracy :  tensor(0.8551)\n",
      "870 Loss :  tensor(0.8779) Accuracy :  tensor(0.8661) Val Loss :  tensor(0.8859) Val Accuracy :  tensor(0.8550)\n",
      "880 Loss :  tensor(0.8777) Accuracy :  tensor(0.8660) Val Loss :  tensor(0.8859) Val Accuracy :  tensor(0.8548)\n",
      "890 Loss :  tensor(0.8776) Accuracy :  tensor(0.8660) Val Loss :  tensor(0.8858) Val Accuracy :  tensor(0.8550)\n",
      "900 Loss :  tensor(0.8775) Accuracy :  tensor(0.8661) Val Loss :  tensor(0.8858) Val Accuracy :  tensor(0.8553)\n",
      "910 Loss :  tensor(0.8773) Accuracy :  tensor(0.8665) Val Loss :  tensor(0.8857) Val Accuracy :  tensor(0.8551)\n",
      "920 Loss :  tensor(0.8772) Accuracy :  tensor(0.8668) Val Loss :  tensor(0.8856) Val Accuracy :  tensor(0.8550)\n",
      "930 Loss :  tensor(0.8770) Accuracy :  tensor(0.8669) Val Loss :  tensor(0.8855) Val Accuracy :  tensor(0.8552)\n",
      "940 Loss :  tensor(0.8769) Accuracy :  tensor(0.8672) Val Loss :  tensor(0.8855) Val Accuracy :  tensor(0.8551)\n",
      "950 Loss :  tensor(0.8768) Accuracy :  tensor(0.8671) Val Loss :  tensor(0.8854) Val Accuracy :  tensor(0.8553)\n",
      "960 Loss :  tensor(0.8766) Accuracy :  tensor(0.8675) Val Loss :  tensor(0.8853) Val Accuracy :  tensor(0.8556)\n",
      "970 Loss :  tensor(0.8765) Accuracy :  tensor(0.8677) Val Loss :  tensor(0.8853) Val Accuracy :  tensor(0.8556)\n",
      "980 Loss :  tensor(0.8764) Accuracy :  tensor(0.8677) Val Loss :  tensor(0.8852) Val Accuracy :  tensor(0.8557)\n",
      "990 Loss :  tensor(0.8763) Accuracy :  tensor(0.8678) Val Loss :  tensor(0.8851) Val Accuracy :  tensor(0.8554)\n"
     ]
    }
   ],
   "source": [
    "# Binary Crossentropy 손실 = loss(x,y) = BCE\n",
    "# Binary Crossentropy 손실 = loss(x,y) = BCE\n",
    "model = nn.Sequential(nn.Linear(X.shape[1], 50),nn.Sigmoid(),\n",
    "                      nn.Linear(50, 25),nn.Sigmoid(),\n",
    "                      nn.Linear(25, Y.shape[1]), nn.Softmax())\n",
    "optimizer = optim.Adam(model.parameters() ,lr = Learning_Rate)\n",
    "Loss_fun = torch.nn.CrossEntropyLoss()\n",
    "Loss = np.zeros((num_epoch,1))\n",
    "Val_Loss = np.zeros((num_epoch,1))\n",
    "Accuracy = np.zeros((num_epoch,1))\n",
    "Val_Accuracy = np.zeros((num_epoch,1))\n",
    "#학습\n",
    "for i in range(num_epoch):\n",
    "    optimizer.zero_grad()\n",
    "    output = model(X)\n",
    "    loss = Loss_fun(output,Y)\n",
    "    loss.backward()\n",
    "    optimizer.step()\n",
    "    # Accuracy Calculate\n",
    "    output_not_one_hot_encoding=torch.argmax(output,dim=1)\n",
    "    accuracy = torch.divide(torch.count_nonzero(torch.eq(output_not_one_hot_encoding,\n",
    "                                                         Y_not_one_hot_encoding)),Y_not_one_hot_encoding.shape[0])\n",
    "    with torch.no_grad():\n",
    "        val_output = model(Val_X)\n",
    "        val_loss = Loss_fun(val_output,Val_Y)\n",
    "        val_output_not_one_hot_encoding=torch.argmax(val_output,dim=1)\n",
    "        val_accuracy = torch.divide(torch.count_nonzero(torch.eq(val_output_not_one_hot_encoding,\n",
    "                                                         Val_Y_not_one_hot_encoding)),Val_Y_not_one_hot_encoding.shape[0])\n",
    "    Loss[i,0] = loss.data\n",
    "    Accuracy[i,0] = accuracy\n",
    "    Val_Loss[i,0] = val_loss.data\n",
    "    Val_Accuracy[i,0] = val_accuracy\n",
    "    if i % 10 == 0:\n",
    "        print(i,\"Loss : \",loss.data,\"Accuracy : \",accuracy.data,\"Val Loss : \",val_loss.data,\"Val Accuracy : \",val_accuracy.data)\n",
    "        "
   ]
  },
  {
   "cell_type": "code",
   "execution_count": 5,
   "id": "67852e2e",
   "metadata": {},
   "outputs": [
    {
     "name": "stdout",
     "output_type": "stream",
     "text": [
      "tensor([2, 2, 0,  ..., 2, 1, 0])\n"
     ]
    }
   ],
   "source": [
    "Predict = model(TEST)\n",
    "Predict_not_one_hot_encoding = torch.argmax(Predict,dim=1)\n",
    "print(Predict_not_one_hot_encoding)"
   ]
  },
  {
   "cell_type": "code",
   "execution_count": 7,
   "id": "e8d5dbb2",
   "metadata": {
    "scrolled": true
   },
   "outputs": [],
   "source": [
    "np.savetxt(\"G:/내 드라이브/연구실/PyTorch/4주차/Test_Predict.csv\",Predict_not_one_hot_encoding,delimiter=\",\",fmt='%d')"
   ]
  },
  {
   "cell_type": "code",
   "execution_count": null,
   "id": "196785fc",
   "metadata": {},
   "outputs": [],
   "source": []
  }
 ],
 "metadata": {
  "kernelspec": {
   "display_name": "Python 3 (ipykernel)",
   "language": "python",
   "name": "python3"
  },
  "language_info": {
   "codemirror_mode": {
    "name": "ipython",
    "version": 3
   },
   "file_extension": ".py",
   "mimetype": "text/x-python",
   "name": "python",
   "nbconvert_exporter": "python",
   "pygments_lexer": "ipython3",
   "version": "3.7.11"
  }
 },
 "nbformat": 4,
 "nbformat_minor": 5
}
